{
 "cells": [
  {
   "cell_type": "markdown",
   "metadata": {
    "collapsed": true
   },
   "source": [
    "# Lists\n",
    "\n",
    "Lists are ordered collections of items. Lists are perhaps the most powerful aspect of the Python programming language over other programming languages. \n",
    "\n",
    "## 1. Introduction to Lists\n",
    "\n",
    "Each position in the list is known as an **index**. The most important thing to know about lists is that 0-indexed, meaning the first position in the list is at index position 0 (NOT index position 1). Below are some basic ways to create lists and some fundamental functions you can perform on lists."
   ]
  },
  {
   "cell_type": "code",
   "execution_count": 22,
   "metadata": {},
   "outputs": [
    {
     "name": "stdout",
     "output_type": "stream",
     "text": [
      "[2, 3]\n",
      "red\n",
      "green\n",
      "3\n",
      "['red', 'blue', 'green', 'purple'] 4\n"
     ]
    }
   ],
   "source": [
    "list1 = list() #Initialize an empty list called list1\n",
    "list1.append(1) #Append the integer 1 to the end of the list\n",
    "list1.append(2) #Append the integer 2 to the end of the list, after the integer 1\n",
    "list1.append(3) #Append the integer 3 to the end of the list\n",
    "list1.remove(1) #Remove the integer 1 from the list\n",
    "print list1\n",
    "\n",
    "list2 = ['red', 'blue', 'green'] #Initialize a list of strings, separated by commas\n",
    "print list2[0] #Print the 1st item in the list at index position 0\n",
    "print list2[2] #Print the 3rd item in the list at index position 2\n",
    "print len(list2) #Print the total number of items in the list\n",
    "list2.append('purple')\n",
    "print list2, len(list2) #The list is now 1 longer!"
   ]
  },
  {
   "cell_type": "markdown",
   "metadata": {},
   "source": [
    "From the code above, we've seen a little bit of how to access single specific index positions in the list. Accessing items in a list can get more complex. In the code segment below, we see a couple of ways to access multiple items or positions in a list."
   ]
  },
  {
   "cell_type": "code",
   "execution_count": 2,
   "metadata": {},
   "outputs": [
    {
     "name": "stdout",
     "output_type": "stream",
     "text": [
      "Sunday\n",
      "['Monday', 'Tuesday']\n",
      "['Thursday', 'Friday', 'Saturday']\n",
      "Saturday\n",
      "Friday\n",
      "['Sunday', 'Monday', 'Tuesday', 'Wednesday']\n",
      "3\n",
      "2\n",
      "True\n"
     ]
    }
   ],
   "source": [
    "days = ['Sunday', 'Monday', 'Tuesday', 'Wednesday', 'Thursday', 'Friday', 'Saturday']\n",
    "print days[0]\n",
    "print days[1:3]\n",
    "print days[4:8]\n",
    "print days[-1]\n",
    "print days[-2]\n",
    "print days[0:-3]\n",
    "print days.index('Wednesday')\n",
    "days.append('Wednesday')\n",
    "print days.count('Wednesday')\n",
    "print 'Wednesday' in days"
   ]
  },
  {
   "cell_type": "markdown",
   "metadata": {},
   "source": [
    "## 2. Iterating (Looping) through Lists\n",
    "Often times, it will be useful to loop through all items in a list and perform functions on them, for example checking if numbers in a list are divisible by 3 or not. Python "
   ]
  },
  {
   "cell_type": "code",
   "execution_count": 48,
   "metadata": {},
   "outputs": [
    {
     "name": "stdout",
     "output_type": "stream",
     "text": [
      "56 is not divisible by 3\n",
      "61 is not divisible by 3\n",
      "8 is not divisible by 3\n",
      "55 is not divisible by 3\n",
      "75 is divisible by 3\n",
      "47 is not divisible by 3\n",
      "22 is not divisible by 3\n",
      "25 is not divisible by 3\n",
      "97 is not divisible by 3\n",
      "42 is divisible by 3\n"
     ]
    }
   ],
   "source": [
    "import random\n",
    "random_nums = random.sample(range(100), 10)\n",
    "for i in range(len(random_nums)):\n",
    "    if random_nums[i] % 3 == 0:\n",
    "        print random_nums[i], 'is divisible by 3'\n",
    "    else:\n",
    "        print random_nums[i], 'is not divisible by 3'"
   ]
  },
  {
   "cell_type": "code",
   "execution_count": 49,
   "metadata": {},
   "outputs": [
    {
     "name": "stdout",
     "output_type": "stream",
     "text": [
      "56 is not divisible by 3\n",
      "61 is not divisible by 3\n",
      "8 is not divisible by 3\n",
      "55 is not divisible by 3\n",
      "75 is divisible by 3\n",
      "47 is not divisible by 3\n",
      "22 is not divisible by 3\n",
      "25 is not divisible by 3\n",
      "97 is not divisible by 3\n",
      "42 is divisible by 3\n"
     ]
    }
   ],
   "source": [
    "for i in random_nums:\n",
    "    if i % 3 == 0:\n",
    "        print i, 'is divisible by 3'\n",
    "    else: \n",
    "        print i, 'is not divisible by 3'"
   ]
  },
  {
   "cell_type": "markdown",
   "metadata": {},
   "source": [
    "## 3. List Comprehension\n",
    "Whenever you need to populate a list in a repetitive or regular fashion, we can use list comprehensions. List comprehensions are "
   ]
  },
  {
   "cell_type": "code",
   "execution_count": 7,
   "metadata": {},
   "outputs": [
    {
     "name": "stdout",
     "output_type": "stream",
     "text": [
      "[0, 0, 0, 0, 0, 0, 0, 0, 0, 0]\n",
      "[0, 1, 2, 3, 4, 5, 6, 7, 8, 9]\n",
      "[0, 2, 4, 6, 8, 10, 12, 14, 16, 18]\n",
      "[0, 2, 4, 6, 8]\n",
      "[(0, 1), (0, 2), (0, 3), (0, 4), (1, 0), (1, 2), (1, 3), (1, 4), (2, 0), (2, 1), (2, 3), (2, 4)]\n",
      "['Monday', 'Tuesday', 'Wednesday', 'Thursday', 'Friday', 'Saturday', 'Sunday']\n"
     ]
    }
   ],
   "source": [
    "zeros = [0 for i in range(10)]\n",
    "print zeros\n",
    "integers = [i for i in range(10)]\n",
    "print integers\n",
    "even1 = [2*i for i in range(10)]\n",
    "print even1\n",
    "even2 = [i for i in range(10) if i % 2 == 0]\n",
    "print even2\n",
    "coordinates = [(i, j) for i in range(3) for j in range(5) if i != j]\n",
    "print coordinates\n",
    "days = [prefix + 'day' for prefix in ['Mon', 'Tues', 'Wednes', 'Thurs', 'Fri', 'Satur', 'Sun']]\n",
    "print days"
   ]
  },
  {
   "cell_type": "markdown",
   "metadata": {},
   "source": [
    "## 4. Assignment\n",
    "### 4.1 Basic List Problems\n",
    "Your task is to first make a list containing integers from 0 to 100. Now print out the following from that list:\n",
    "* The first 25 integers\n",
    "* The last 17 integers\n",
    "* The integers from 62 to 89\n",
    "* All the odd integers \n",
    "* Sum of the first 25 integers"
   ]
  },
  {
   "cell_type": "code",
   "execution_count": null,
   "metadata": {
    "collapsed": true
   },
   "outputs": [],
   "source": []
  },
  {
   "cell_type": "markdown",
   "metadata": {},
   "source": [
    "### 4.2  Centered Average\n",
    "Return the \"centered\" average of a list of ints called, which is say is the mean of the values ignoring the largest and smallest values in the array. If there are multiple copies of the smallest value, ignore just one copy, and likewise for the largest value. You may assume that the array is length 3 or more."
   ]
  },
  {
   "cell_type": "code",
   "execution_count": null,
   "metadata": {
    "collapsed": true
   },
   "outputs": [],
   "source": [
    "def centered_avg(nums):\n",
    "    return"
   ]
  },
  {
   "cell_type": "markdown",
   "metadata": {},
   "source": [
    "### 4.3 Temperature Conversion\n",
    "Create a list of 12 random floating point numbers between 0 and 100. Let these represent the average temperature per month in Celcius for a year. **Using a list comprehension** convert this list into a list of the same temperatures but in Fahrenheit."
   ]
  },
  {
   "cell_type": "code",
   "execution_count": 7,
   "metadata": {},
   "outputs": [
    {
     "data": {
      "text/plain": [
       "78.73957754657631"
      ]
     },
     "execution_count": 7,
     "metadata": {},
     "output_type": "execute_result"
    }
   ],
   "source": [
    "import random\n",
    "100*random.random() # Sample code to generate a float between 0 and 100"
   ]
  },
  {
   "cell_type": "markdown",
   "metadata": {},
   "source": [
    "### 4.4 String Manipulation\n",
    "Create a function to remove all the vowels from a string. Now use this function in a list comprehension to return a list of all the months \"January\" through \"December\" without vowels. Be careful to make sure you remove the capital vowels as well!"
   ]
  },
  {
   "cell_type": "code",
   "execution_count": null,
   "metadata": {
    "collapsed": true
   },
   "outputs": [],
   "source": [
    "def remove_vowels(month):\n",
    "    return"
   ]
  }
 ],
 "metadata": {
  "anaconda-cloud": {},
  "kernelspec": {
   "display_name": "Python 2",
   "language": "python",
   "name": "python2"
  },
  "language_info": {
   "codemirror_mode": {
    "name": "ipython",
    "version": 2
   },
   "file_extension": ".py",
   "mimetype": "text/x-python",
   "name": "python",
   "nbconvert_exporter": "python",
   "pygments_lexer": "ipython2",
   "version": "2.7.13"
  }
 },
 "nbformat": 4,
 "nbformat_minor": 1
}
