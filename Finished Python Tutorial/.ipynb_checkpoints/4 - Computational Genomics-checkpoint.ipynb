{
 "cells": [
  {
   "cell_type": "markdown",
   "metadata": {},
   "source": [
    "# Computational Genomics\n",
    "\n",
    "Genomics is a field of biology whose growth is strongly correlated to the development of computer technology and advancements in computer science. As DNA sequencing becomes cheaper and faster, entire DNA sequences of genes and organisms can now be easily and inexpensively sequenced, making a trove of genomic data readily available. Computational genomics is the field of study related to processing and analyzing this genomic data."
   ]
  },
  {
   "cell_type": "markdown",
   "metadata": {},
   "source": [
    "## 1. Review Basic String Functions\n",
    "Since genomic data is most often found in the form of strings using the characters 'ATCG' to represent nucleotides, most of the functions you will be using to analyze genomic data will involve string manipulation. \n",
    "\n",
    "As mentioned in our previous module, a string is simply an ordered \"collection\" of symbols selected from some alphabet and formed into a word. The length of a string would simply be the number of symbols it contains. An example of a length 21 DNA string (whose alphabet contains the symbols 'A', 'C', 'G', and 'T') is \"ATGCTTCAGAAAGGTCTTACG.\"\n",
    "\n",
    "Luckily, Python has an extensive and robust string library that makes string manipulation very simple to code. Here is a crash course in string functions in Python:\n"
   ]
  },
  {
   "cell_type": "code",
   "execution_count": null,
   "metadata": {
    "collapsed": true
   },
   "outputs": [],
   "source": [
    "word = 'Hello World!'\n",
    "print word # Prints a string to console output\n",
    "print len(word) # Prints the length of a string, including spaces\n",
    "print word[:3] # Prints the first 3 characters of the string\n",
    "print word[-3:] # Prints the last 3 characters of the string\n",
    "print word[0] # Prints the first character of the string. Notice that strings start at index 0.\n",
    "print word[3:7] # Prints the 4th through 7th character of the string. "
   ]
  },
  {
   "cell_type": "markdown",
   "metadata": {},
   "source": [
    "Notice that in the last line of code\n",
    "<pre>\n",
    "print word[3:7]\n",
    "</pre>\n",
    "\n",
    "gives us the 4th through 7th character in 'Hello World!'. The index position 3 actually corresponds to the 4th character in 'Hello World!' This is because in Python, strings start at index position 0. Also notice that the code asks for `word[3:7]`. Using the logic that strings start at index position 0, you would think that the index position 7 in `word[3:7]` would correspond to the 8th character in 'Hello World!' and that printing `word[3:7]` would result in 'lo Wo'. However, the \"splicing\" notation used here is inclusive on the first parameter 3 and exclusive on the second parameter 7, which means that `word[3:7]` actually prints out the 4th through 7th character in 'Hello World!' This inclusive/exclusive condition is true for all splicing in Python. Thus, if we wanted the 6th through 8th character in 'Hello World!', we would print `word[5:8]`. Please look up the Python documentation on your own time if you are still confused. Making sure indices are correct in any coding language is half the battle, and is especially important when dealing with genomic data where the exact position of each nucleotide is crucial!\n",
    "\n",
    "Below are a couple more functions that you might find useful in this tutorial. I won't go into too much detail about why they work - you can look that up on your own time."
   ]
  },
  {
   "cell_type": "code",
   "execution_count": null,
   "metadata": {
    "collapsed": true
   },
   "outputs": [],
   "source": [
    "print word.count('l') # Prints the count of a specific character in word.\n",
    "print word[::-1] # Prints the reverse of the string\n",
    "print word.replace('l', 'r') # Replaces all instances of the first parameter with the second parameter\n",
    "for i in word: # In python, you can treat strings as iterable arrays. This code will print each letter in word.\n",
    "    print i"
   ]
  },
  {
   "cell_type": "code",
   "execution_count": null,
   "metadata": {
    "collapsed": true
   },
   "outputs": [],
   "source": [
    "# Practice some of the basic string functions here!"
   ]
  },
  {
   "cell_type": "markdown",
   "metadata": {},
   "source": [
    "## 2. Importance of Algorithms\n",
    "To illustrate the importance of computer science and algorithm design in the context of computational genomics, we will try to search for a specific sequence of nucleotides in the human chromosome 21, the smallest human chromosome."
   ]
  },
  {
   "cell_type": "markdown",
   "metadata": {},
   "source": [
    "Run the following code to import the sequence for chromosome 21 and store it in a variable called chr21."
   ]
  },
  {
   "cell_type": "code",
   "execution_count": null,
   "metadata": {
    "collapsed": true
   },
   "outputs": [],
   "source": [
    "f = open('chr21.fa')\n",
    "seq = []\n",
    "for ln in f:\n",
    "    if ln[0] != '>':\n",
    "        seq.append(ln.rstrip())\n",
    "chr21 = ''.join(seq)"
   ]
  },
  {
   "cell_type": "markdown",
   "metadata": {},
   "source": [
    "To illustrate why the efficiency of algorithms is important to think about, let's try to search for increasing lengths of the repeated adenine nucleotide on chromosome 21 and measure how much time it takes. Complete the code below to manually search for repeated sequences of 'A' of length 15 to 30 and compare the time it takes to finish searching the chromosome for these sequences."
   ]
  },
  {
   "cell_type": "code",
   "execution_count": null,
   "metadata": {
    "collapsed": true
   },
   "outputs": [],
   "source": [
    "import time\n",
    "\n",
    "times1 = []\n",
    "\n",
    "for # Complete for loop to iterate through lengths 15-30:\n",
    "    start = time.time() #Keep track of the start time\n",
    "    \n",
    "    # Write code here that will create a string of length i of repeated 'A's and store it in a variable called 'nuc'\n",
    "    # There are multiple ways to do this! Use the skills you learned from Module 1 or look up documentation.\n",
    "    nuc = \n",
    "    \n",
    "    for # Complete for loop to iterate through chromosome 21:\n",
    "        if # Complete code  == nuc:\n",
    "            break\n",
    "            \n",
    "    elapsed = # Complete code to calculate how much time has elapsed. Hint: look at code for start variable.\n",
    "    print 'Elapsed time to search for length', i, 'is', elapsed, 'seconds'\n",
    "    times1.append(elapsed)"
   ]
  },
  {
   "cell_type": "code",
   "execution_count": null,
   "metadata": {
    "collapsed": true
   },
   "outputs": [],
   "source": [
    "# Answer\n",
    "import time\n",
    "%matplotlib inline\n",
    "import matplotlib.pyplot as plt\n",
    "\n",
    "times1 = []\n",
    "\n",
    "for i in range(15, 31):\n",
    "    start = time.time() #Keep track of the start time\n",
    "    \n",
    "    #Write code here that will create a string of length i of repeated 'A's and store it in a variable called 'nuc'\n",
    "    #There are multiple ways to do this! Use the skills you learned from Module 1 or look up documentation.\n",
    "    nuc = 'A' * i\n",
    "    \n",
    "    for j in range(len(chr21) - i):\n",
    "        if chr21[j:j+i] == nuc:\n",
    "            break\n",
    "    elapsed = time.time() - start\n",
    "    print 'Elapsed time to search for length', i, 'is', elapsed, 'seconds'\n",
    "    times1.append(elapsed)"
   ]
  },
  {
   "cell_type": "code",
   "execution_count": null,
   "metadata": {
    "collapsed": true
   },
   "outputs": [],
   "source": [
    "plt.plot(range(15,31), times1)\n",
    "plt.ylabel('Elapsed Computation Time (seconds)')\n",
    "plt.xlabel('Length of Sequence Searched For')\n",
    "plt.show()"
   ]
  },
  {
   "cell_type": "code",
   "execution_count": null,
   "metadata": {
    "collapsed": true,
    "scrolled": false
   },
   "outputs": [],
   "source": [
    "times2 = []\n",
    "\n",
    "for i in range(15, 31):\n",
    "    start = time.time() #Keep track of the start time\n",
    "    \n",
    "    #Write code here that will create a string of length i of repeated 'A's and store it in a variable called 'nuc'\n",
    "    #Use your same code as above\n",
    "    nuc = 'A' * i\n",
    "\n",
    "    print 'Found:', nuc in chr21\n",
    "    elapsed = time.time() - start #Complete code to calculate how much time as elapsed. Hint: look at code for start variable.\n",
    "    print 'Elapsed time to search for length', i, 'is', elapsed, 'seconds'\n",
    "    times2.append(elapsed)\n",
    "    \n",
    "plt.plot(range(15, 31), times1, 'b', range(15, 31), times2, 'r')\n",
    "plt.ylabel('Elapsed Computation Time (seconds)')\n",
    "plt.xlabel('Length of Sequence Searched For')\n",
    "plt.show()"
   ]
  },
  {
   "cell_type": "markdown",
   "metadata": {},
   "source": [
    "There are a couple of things to observe in the comparison between computation times that you have graphed above:\n",
    "1. Observe how when we tried to write our own, \"naive\" algorithm to find a sequence of repeated 'A's in chromosome 21, the computation time is in the order of magnitude of seconds; however, when we use Python's built-in substring search function 'in', the computation time is on the order of hundredths of seconds or faster. This is because manually comparing strings using the == operator at every single index position in chr21 takes a very long time. When using the 'in' keyword, the makers of Python have implemented a very fast string search algorithm called Boyer-Moore that searches for substrings much faster than comparing the substring at every position in a string. This results in the hundredfold reduction in string search time.\n",
    "2. Notice how in general, the longer the sequence we want to search for, the longer the computation time takes. Whether the computation time increases linearly, exponentially, or in some other mathematical relationship as the length of the sequence increases is known as the time-complexity of the string search algorithm. Time-complexity is a fundamental measurement of how efficient an algorithm is, and is very important to keep in mind when designing and implementing algorithms."
   ]
  },
  {
   "cell_type": "markdown",
   "metadata": {},
   "source": [
    "## 3. Basics of Genomics\n",
    "Now that you have some newfound appreciation for computational genomics, let's explore some fundamentals - in both biology and lists!\n",
    "\n",
    "\n",
    "**Q2: Counting ACGT** Most of you may remember from high school biology that the ratio of A:T and G:C is exactly 1:1 in correctly paired double stranded DNA since A pairs with T and G pairs with C. This is known as Chargaff's Rule. What many of you may not know is that there is a second Chargaff's Rule that says that even among a single strand of DNA, the percentage of As is approximately the same as the percentage of Ts, and the percentage of Gs is approximately the same as the percengate of Cs. Let's check this rule for the single stranded sequence of chr21 that we have stored!"
   ]
  },
  {
   "cell_type": "markdown",
   "metadata": {},
   "source": [
    "One way we can tackle this problem is by writing a for-loop, and for each symbol in the string, we check if it is one of the 4 alphabet symbols in the dna read."
   ]
  },
  {
   "cell_type": "code",
   "execution_count": null,
   "metadata": {
    "collapsed": true
   },
   "outputs": [],
   "source": [
    "def ACGTCount(dna):\n",
    "    \"\"\"\n",
    "    Parameters:\n",
    "        dna - string with length of at most 1000 base pairs\n",
    "    \n",
    "    Return:\n",
    "        Counts of \"A\", \"C\", \"G\", and \"T\" in a Tuple\n",
    "    \"\"\"\n",
    "    A, C, G, T = 0, 0, 0, 0\n",
    "    for base in dna:\n",
    "        if base == \"A\":\n",
    "            A += 1\n",
    "        elif base == \"C\":\n",
    "            C += 1\n",
    "        elif base == \"G\":\n",
    "            G += 1\n",
    "        elif base == \"T\":\n",
    "            T += 1\n",
    "        else:\n",
    "            return \"Error. Not a valid DNA string!\"\n",
    "    \n",
    "    return (A/float(len(dna)),C/float(len(dna)),G/float(len(dna)),T/float(len(dna)))\n",
    "    \n",
    "ACGTCount(\"ATGCGGTGCACTTTATGCGGACACTTCCTACAGGTAGCGTTGACCCTAATTTTGGTCGTCGGGTACGCAATCGCCGCCAGTTAAATAGCTTGCAACATACGTGGCCTTATGGTTACAGTATGCCCATCGCAGTTCGCTACACGCAGGACG\")"
   ]
  },
  {
   "cell_type": "markdown",
   "metadata": {},
   "source": [
    "However, this implementation is rather long. Is there a package implementation within the \"strings collection\" that we can use?\n",
    "\n",
    "\n",
    " Given a DNA represented as a string, efficiently calculate the occurences of 'A', 'C', 'G', and 'T' as they occur in the string. Try doing this problem **without** looping over every base pair!"
   ]
  },
  {
   "cell_type": "code",
   "execution_count": null,
   "metadata": {
    "collapsed": true
   },
   "outputs": [],
   "source": [
    "# Problem\n",
    "def ACGTCount(dna):\n",
    "    \"\"\"\n",
    "    Parameters:\n",
    "        dna - string containing \n",
    "    \n",
    "    Return:\n",
    "        Counts of \"A\", \"C\", \"G\", and \"T\" in a Tuple\n",
    "    \"\"\"\n",
    "    return \n",
    "\n",
    "# Answer\n",
    "def ACGTCount(dna):\n",
    "    \"\"\"\n",
    "    Parameters:\n",
    "        dna - string with length of at most 1000 base pairs\n",
    "    \n",
    "    Return:\n",
    "        Counts of \"A\", \"C\", \"G\", and \"T\" in a Tuple\n",
    "    \"\"\"\n",
    "    return tuple([dna.count(base)/float(len(dna)) for base in \"ACGT\"])\n",
    "\n",
    "ACGTCount(\"ATGCGGTGCACTTTATGCGGACACTTCCTACAGGTAGCGTTGACCCTAATTTTGGTCGTCGGGTACGCAATCGCCGCCAGTTAAATAGCTTGCAACATACGTGGCCTTATGGTTACAGTATGCCCATCGCAGTTCGCTACACGCAGGACG\")"
   ]
  },
  {
   "cell_type": "markdown",
   "metadata": {},
   "source": [
    "**Q3. Counting Point Mutations** Computational genomics is especially important in identifying specific genes and/or mutations. This is usually done by comparing an individual's genome to a reference genome, and looking at differences between the two. Let's try writing some code to compare a DNA sequence to a reference sequence."
   ]
  },
  {
   "cell_type": "code",
   "execution_count": null,
   "metadata": {
    "collapsed": true
   },
   "outputs": [],
   "source": [
    "# Problem\n",
    "def CountPointMutations(ref, dna):\n",
    "    \"\"\"\n",
    "    Parameters:\n",
    "        ref - reference DNA String to be compared\n",
    "        dna - DNA String to check\n",
    "        \n",
    "    Return:\n",
    "        Number of Point Mutations \n",
    "    \"\"\"\n",
    "    return\n",
    "\n",
    "# Solution\n",
    "def CountPointMutations(ref, dna):\n",
    "    \"\"\"\n",
    "    Parameters:\n",
    "        ref - reference DNA String to be compared\n",
    "        dna - DNA String to check\n",
    "        \n",
    "    Return:\n",
    "        Number of Point Mutations \n",
    "    \"\"\"\n",
    "    return sum(1 for base1, base2 in zip(ref, dna) if base1 != base2)\n",
    "\n",
    "reference = 'GAGCCTACTAACGGGAT'\n",
    "DNA = 'CATCGTAATGACGGCCT'\n",
    "CountPointMutations(reference, DNA)"
   ]
  },
  {
   "cell_type": "markdown",
   "metadata": {},
   "source": [
    "## 4. Central Dogma of Molecular Biology\n",
    "\n",
    "The central dogma of molecular biology describes the two-step process, transcription and translation, by which the information in genes flows into proteins: DNA → RNA → protein.\n",
    "\n",
    "Transcription is the synthesis of an RNA copy of a segment of DNA, and Translation is the synthesis of RNA to its amino acid by RNA polymerase. In this module, we are going to program every step of this central dogma.\n",
    "\n"
   ]
  },
  {
   "cell_type": "markdown",
   "metadata": {},
   "source": [
    "**Q4. Finding the reverse complement of a DNA sequence** Finding the reverse complement is a little bit harder. Typically DNA is read 5' to 3'. This means that for double stranded DNA, the two strands are aligned with 5' and 3' ends opposite to each other. Thus, sometimes it is important to know the reverse complement of a single strand of the DNA. The reverse complement can be computed by first reversing a DNA sequence, and then taking the complement. \n",
    "\n",
    "An example of finding the reverse complement can be seen in the cell below. In the example, we reversed the dna string by subsetting it with `[::-1]`, and for every base in the reverse string, we add its complement to a new string, called `reverseC`."
   ]
  },
  {
   "cell_type": "code",
   "execution_count": null,
   "metadata": {
    "collapsed": true
   },
   "outputs": [],
   "source": [
    "def ReverseComplement(dna):\n",
    "    \"\"\"\n",
    "    Parameters:\n",
    "        dna - string with length of at most 1000 base pairs\n",
    "    \n",
    "    Return:\n",
    "        reverse - string as the reverse complement of DNA\n",
    "    \"\"\"\n",
    "    reverseC = \"\"\n",
    "    for base in dna[::-1]:\n",
    "        if base == \"A\":\n",
    "            reverseC += \"T\"\n",
    "        elif base == \"T\":\n",
    "            reverseC += \"A\"\n",
    "        elif base == \"G\":\n",
    "            reverseC += \"C\"\n",
    "        else:\n",
    "            reverseC += \"G\"\n",
    "        \n",
    "    return reverseC\n",
    "\n",
    "DNA = 'AAAACCCGGT'\n",
    "ReverseComplement1(DNA)"
   ]
  },
  {
   "cell_type": "markdown",
   "metadata": {},
   "source": [
    "Note, as you can see, there exists mapping A $\\leftrightarrow$ T and G $\\leftrightarrow$ C. We can encode this mapping inside a dictionary, which can be indexed very similarly to lists. As an example, `base_complement[\"A\"]` of the example below should give `T`. "
   ]
  },
  {
   "cell_type": "code",
   "execution_count": null,
   "metadata": {
    "collapsed": true
   },
   "outputs": [],
   "source": [
    "base_complement = {\"A\":\"T\", \"T\":\"A\", \"G\":\"C\", \"C\":\"G\"}\n",
    "print \"Complement of A is\", base_complement[\"A\"]\n",
    "print \"Complement of T is\", base_complement[\"T\"]\n",
    "print \"Complement of C is\", base_complement[\"G\"]\n",
    "print \"Complement of G is\", base_complement[\"C\"]"
   ]
  },
  {
   "cell_type": "markdown",
   "metadata": {},
   "source": [
    "With this new powerful data structure/\"collection\", we can use dictionaries to drastically simpliy our code."
   ]
  },
  {
   "cell_type": "code",
   "execution_count": null,
   "metadata": {
    "collapsed": true
   },
   "outputs": [],
   "source": [
    "def ReverseComplement(dna):\n",
    "    \"\"\"\n",
    "    Parameters:\n",
    "        dna - string with length of at most 1000 base pairs\n",
    "    \n",
    "    Return:\n",
    "        reverse - string as the reverse complement of DNA\n",
    "    \"\"\"\n",
    "    reverseC = \"\"\n",
    "    base_complement = {\"A\":\"T\", \"T\":\"A\", \"G\":\"C\", \"C\":\"G\"}\n",
    " \n",
    "    for base in dna[::-1]:\n",
    "        reverseC += base_complement[base]\n",
    "        \n",
    "    return reverseC\n",
    "\n",
    "DNA = 'AAAACCCGGT'\n",
    "ReverseComplement(DNA)"
   ]
  },
  {
   "cell_type": "markdown",
   "metadata": {},
   "source": [
    "The way we can use lists are too many to be included in one module! Another way we can use lists and strings is the `<delimination>.join(<list>)` command, which given a list, we can concatenate all of the elements together with a chosen `delimination` used to separate those elements.\n",
    "\n",
    "An example of `join` in action can be seen below."
   ]
  },
  {
   "cell_type": "code",
   "execution_count": null,
   "metadata": {
    "collapsed": true
   },
   "outputs": [],
   "source": [
    "DNA_alphabet_list = [\"A\", \"C\", \"G\", \"T\"]\n",
    "print \"Joining a list with no delimination:\", \"\".join(DNA_alphabet_list)\n",
    "print \"Joining a list with space delimination:\", \" \".join(DNA_alphabet_list)\n",
    "print \"Joining a list with comma+space delimination:\", \", \".join(DNA_alphabet_list)"
   ]
  },
  {
   "cell_type": "markdown",
   "metadata": {},
   "source": [
    "Remarkably, using list comprehensions and a couple of new string/list tricks, we can make this program even simpler, and actually return the results in only one line!"
   ]
  },
  {
   "cell_type": "code",
   "execution_count": null,
   "metadata": {
    "collapsed": true
   },
   "outputs": [],
   "source": [
    "def ReverseComplement(dna):\n",
    "    \"\"\"\n",
    "    Parameters:\n",
    "        dna - string with length of at most 1000 base pairs\n",
    "    \n",
    "    Return:\n",
    "        reverse - string as the reverse complement of DNA\n",
    "    \"\"\"\n",
    "    base_complement = {\"A\":\"T\", \"T\":\"A\", \"G\":\"C\", \"C\":\"G\"}\n",
    "    return \"\".join([base_complement[base] for base in dna[::-1]])\n",
    "\n",
    "DNA = 'AAAACCCGGT'\n",
    "ReverseComplement(DNA)"
   ]
  },
  {
   "cell_type": "markdown",
   "metadata": {},
   "source": [
    "As succinct as that program is, it still uses a for-loop to iterate over every base in the DNA string. In typical Python fashion, if there already exists a string command that can perform that mapping for us, we should just use that package/implementation if possible, as built-in implementations are generally faster and more scalable. In our case, we might be working with DNA strings with millions of characters, and we want to limit the overhead/computation in Python as much as possible. This will also give you experience of \"googling/stackoverflowing\" documentation. In the next question, try writing the `ReverseComplement` function without any for loops. There are still plenty of ways to tackle this problem, but try using the `maketrans` method in the strings package."
   ]
  },
  {
   "cell_type": "code",
   "execution_count": null,
   "metadata": {
    "collapsed": true
   },
   "outputs": [],
   "source": [
    "def ReverseComplement(dna):\n",
    "    \"\"\"\n",
    "    Parameters:\n",
    "        dna - string with length of at most 1000 base pairs\n",
    "    \n",
    "    Return:\n",
    "        string as the reverse complement of DNA\n",
    "    \"\"\"\n",
    "    from string import maketrans\n",
    "    return\n",
    "\n",
    "def ReverseComplement(dna):\n",
    "    \"\"\"\n",
    "    Parameters:\n",
    "        dna - string with length of at most 1000 base pairs\n",
    "    \n",
    "    Return:\n",
    "        reverse - string as the reverse complement of DNA\n",
    "    \"\"\"\n",
    "    from string import maketrans\n",
    "    oldChars = \"ACGT\"\n",
    "    newChars = \"TGCA\"\n",
    "    rule = maketrans(oldChars, newChars)\n",
    "    print(dna.translate(rule)[::-1])\n",
    "\n",
    "DNA = 'AAAACCCGGT'\n",
    "ReverseComplement1(DNA)"
   ]
  },
  {
   "cell_type": "markdown",
   "metadata": {},
   "source": [
    "**Q5. Transcribing DNA into RNA** Iterating over the steps of the central dogma of molecular biology, let's try to transcribe DNA into RNA.\n",
    "\n",
    "An RNA string is a string formed from the alphabet containing 'A', 'C', 'G', and 'U'. Given a DNA string corresponding to a coding strand, return its transcribed RNA string by replacing all occurrences of 'T' with 'U' in the reverse complement of the DNA string. Once again, we can write our own naive solution down below, but it might not be as fast."
   ]
  },
  {
   "cell_type": "code",
   "execution_count": null,
   "metadata": {
    "collapsed": true
   },
   "outputs": [],
   "source": [
    "def DNAtoRNA(dna):\n",
    "    \"\"\"\n",
    "    Parameters:\n",
    "        dna - DNA string\n",
    "    \n",
    "    Return:\n",
    "        RNA sequence as a string\n",
    "    \"\"\"\n",
    "    RNA = \"\"\n",
    "    reversedC = ReverseComplement(dna)\n",
    "    \n",
    "    for base in reversedC:\n",
    "        if base == \"T\":\n",
    "            RNA += \"U\"\n",
    "        else:\n",
    "            RNA += base\n",
    "    return reversedC\n",
    "\n",
    "DNAtoRNA(\"ATGCGGTGCACTTTATGCGGACACTTCCTACAGGTAGCGTTGACCCTAATTTTGGTCGTCGGGTACGCAATCGCCGCCAGTTAAATAGCTTGCAACATACGTGGCCTTATGGTTACAGTATGCCCATCGCAGTTCGCTACACGCAGGACG\")"
   ]
  },
  {
   "cell_type": "markdown",
   "metadata": {},
   "source": [
    "Once again, try doing this problem without a for loop! There are a lot of great functions in the \"string collection\" of Python that could accomplish this problem."
   ]
  },
  {
   "cell_type": "code",
   "execution_count": null,
   "metadata": {
    "collapsed": true
   },
   "outputs": [],
   "source": [
    "# problem\n",
    "def DNAtoRNA(dna):\n",
    "    \"\"\"\n",
    "    Parameters:\n",
    "        dna - DNA string\n",
    "    \n",
    "    Return:\n",
    "        RNA sequence as a string\n",
    "    \"\"\"\n",
    "    reversedC = ReverseComplement(dna)\n",
    "    return \n",
    "\n",
    "# solution\n",
    "def DNAtoRNA(dna):\n",
    "    \"\"\"\n",
    "    Parameters:\n",
    "        dna - DNA String\n",
    "    \n",
    "    Return:\n",
    "        RNA sequence as a string\n",
    "    \"\"\"\n",
    "    return ReverseComplement(dna).replace(\"T\", \"U\")\n",
    "\n",
    "DNAtoRNA(\"ATGCGGTGCACTTTATGCGGACACTTCCTACAGGTAGCGTTGACCCTAATTTTGGTCGTCGGGTACGCAATCGCCGCCAGTTAAATAGCTTGCAACATACGTGGCCTTATGGTTACAGTATGCCCATCGCAGTTCGCTACACGCAGGACG\")"
   ]
  },
  {
   "cell_type": "markdown",
   "metadata": {},
   "source": [
    "**Q6A. Creating the Codon Table**\n",
    "The 20 commonly occurring amino acids are abbreviated by using 20 letters from the English alphabet (all letters except for B, J, O, U, X, and Z). Protein strings are constructed from these 20 symbols. Henceforth, the term genetic string will incorporate protein strings along with DNA/RNA strings. The RNA codon table dictates the details regarding the encoding of specific codons into the amino acid alphabet.\n",
    "![](Files/aa.jpg)"
   ]
  },
  {
   "cell_type": "markdown",
   "metadata": {},
   "source": [
    "Write a program/script that will automatically generate the codon table used to match codons to amino acids. Denote stop codon as a *.\n",
    "\n",
    "Hint: We've used a dictionary in the past to map bases to their complement. A dictionary might help to match codons $\\rightarrow$ amino acids\n",
    "\n",
    "Double Hint: To programmatically create this table (without having to do it by hand), how can we use loops generate all possible codons? \n",
    "\n",
    "Triple Hint: You might have to use a double nested for loop (a for loop within a for loop within a for loop).\n",
    "\n",
    "Quadruple Hint: If we know the order of which these codons are generated, it might be useful to all the amino acids in advance as a string. As an example, if the first 4 codons created are \"UUU\", \"UUC\", \"UUA\", \"UUG\",... we know the first 4 amino acids in this iteration must be \"F\", \"F\", \"L\", \"L\"..., which we can store as \"FFLL...\"."
   ]
  },
  {
   "cell_type": "code",
   "execution_count": null,
   "metadata": {
    "collapsed": true
   },
   "outputs": [],
   "source": [
    "# Problem\n",
    "def generateCodonTable():\n",
    "    \"\"\"\n",
    "    Parameters:\n",
    "        None\n",
    "        \n",
    "    Return:\n",
    "        A dictionary that maps codons to amino acids\n",
    "    \"\"\"\n",
    "    dictCodon = {} # We could have also initialized it as = dict(). Both are equivalent.\n",
    "    return dictCodon\n",
    "\n",
    "# Solution\n",
    "def generateCodonTable():\n",
    "    \"\"\"\n",
    "    Parameters:\n",
    "        None\n",
    "        \n",
    "    Return:\n",
    "        A dictionary that maps codons to amino acids\n",
    "    \"\"\"\n",
    "    codons = [firCodon + secCodon + wobble for firCodon in \"UCAG\" for secCodon in \"UCAG\" for wobble in \"UCAG\"]\n",
    "    aminoAcids = 'FFLLSSSSYY**CC*WLLLLPPPPHHQQRRRRIIIMTTTTNNKKSSRRVVVVAAAADDEEGGGG'\n",
    "    dictCodon = dict(zip(codons, aminoAcids))\n",
    "    \n",
    "    return dictCodon"
   ]
  },
  {
   "cell_type": "markdown",
   "metadata": {},
   "source": [
    "**Q6B. Transcribing RNA into Protein** We are at the last step of the Central Dogma! Given an RNA string and our Codon Table created previously, convert the RNA string to its corresponding amino acid sequence."
   ]
  },
  {
   "cell_type": "code",
   "execution_count": null,
   "metadata": {
    "collapsed": true
   },
   "outputs": [],
   "source": [
    "# Problem\n",
    "def RNAtoProtein(rna):\n",
    "    \"\"\"\n",
    "    Parameters:\n",
    "        rna - RNA String\n",
    "    \n",
    "    Return:\n",
    "        protein - amino acid sequence as a string\n",
    "    \"\"\"\n",
    "    protein = \"\"\n",
    "    return protein\n",
    "\n",
    "# Solution\n",
    "def RNAtoProtein(rna):\n",
    "    \"\"\"\n",
    "    Parameters:\n",
    "        rna - RNA String\n",
    "    \n",
    "    Return:\n",
    "        protein - amino acid sequence as a string\n",
    "    \"\"\"\n",
    "    protein = \"\"\n",
    "    for i in list(range(0, len(rna), 3)):\n",
    "        if dictCodon.get(rna[i:i+3]) != \"*\":\n",
    "            protein = protein + dictCodon.get(rna[i:i+3])\n",
    "        else:\n",
    "            break\n",
    "    return protein"
   ]
  },
  {
   "cell_type": "markdown",
   "metadata": {},
   "source": [
    "**Q7. Translating Open Reading Frames** While trascription and finding the reverse complement is somewhat trivial in Python, finding the amino acid sequence coded by a strand of DNA is not. This is because each amino acid is encoded by a nucleotide codon of length 3. This means that for a given strand of DNA, there are 6 ways (or \"Open Reading Frames\") to decipher the amino acid sequence: 3 ways reading the strand forwards, and 3 ways reading the strand in reverse. Let's try to find all valud amino acid sequences for the 6 open reading frames of the DNA sequence below:"
   ]
  },
  {
   "cell_type": "code",
   "execution_count": null,
   "metadata": {
    "collapsed": true
   },
   "outputs": [],
   "source": [
    "def ORF(dna):\n",
    "    \"\"\"\n",
    "    Parameters:\n",
    "        dna - DNA String\n",
    "        \n",
    "        \n",
    "    \"\"\"\n",
    "    dictCodon = generateCodonTable()\n",
    "    \n",
    "    orf = set()\n",
    "    RNA_list = [DNAtoRNA(dna), DNAtoRNA(FormComplement(dna))]\n",
    "    for rna in RNA_list:\n",
    "        AUG_list = [m.start() for m in re.finditer('AUG', rna)]\n",
    "        for aug in AUG_list:\n",
    "            protein = \"\"\n",
    "            temp_rna = rna[aug:]\n",
    "            for i in range(0, len(temp_rna), 3):\n",
    "                if i+3 <= len(temp_rna):\n",
    "                    if dictCodon.get(temp_rna[i:i+3]) != \"*\":\n",
    "                        protein = protein + str(dictCodon.get(temp_rna[i:i+3]))\n",
    "                    else:\n",
    "                        orf = orf.union([protein])\n",
    "                        break\n",
    "                    \n",
    "    return orf"
   ]
  },
  {
   "cell_type": "markdown",
   "metadata": {},
   "source": [
    "## 5. Summary\n",
    "In this module, you now have a basic understanding of how to manipulate strings for genomic analysis in Python. You have seen the importance of algorithm design and selection by comparing the run times between an algorithm you wrote yourself and an algorithm native to Python. You have also explored some of the basics of computational genomics involving DNA and RNA. \n",
    "\n",
    "The new skills you have learned in this module are only a tiny fraction of what is involved in computational genomics. We haven't even explored doing computational statistical analysis on genomes. Currently, some exciting fields within computational genomics include finding new genes using algorithms, applications for personalized and precision medicine, and genetic testing. All of these fields use the various pieces of code you have written in this module!\n"
   ]
  }
 ],
 "metadata": {
  "anaconda-cloud": {},
  "kernelspec": {
   "display_name": "Python 2",
   "language": "python",
   "name": "python2"
  },
  "language_info": {
   "codemirror_mode": {
    "name": "ipython",
    "version": 2
   },
   "file_extension": ".py",
   "mimetype": "text/x-python",
   "name": "python",
   "nbconvert_exporter": "python",
   "pygments_lexer": "ipython2",
   "version": "2.7.13"
  }
 },
 "nbformat": 4,
 "nbformat_minor": 1
}
